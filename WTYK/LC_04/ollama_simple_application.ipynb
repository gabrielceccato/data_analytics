{
 "cells": [
  {
   "cell_type": "code",
   "execution_count": null,
   "id": "2a0f5c15",
   "metadata": {},
   "outputs": [],
   "source": [
    "from ollama import Client\n",
    "\n",
    "client = Client()\n",
    "\n",
    "response = client.generate(\n",
    "    model=\"gemma3:1b',\" \\\n",
    "    prompt=\"Write only runnable Python Code that uses numpy and matplotlib to draw a Histogramm of 1000 normally distributed random numbers.\"\n",
    "\n",
    "    print(response)"
   ]
  }
 ],
 "metadata": {
  "kernelspec": {
   "display_name": "Python 3",
   "language": "python",
   "name": "python3"
  },
  "language_info": {
   "name": "python",
   "version": "3.11.13"
  }
 },
 "nbformat": 4,
 "nbformat_minor": 5
}
